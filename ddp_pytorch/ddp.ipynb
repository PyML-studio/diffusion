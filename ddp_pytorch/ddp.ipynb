{
 "cells": [
  {
   "cell_type": "code",
   "execution_count": null,
   "metadata": {},
   "outputs": [],
   "source": [
    "import torch\n",
    "\n",
    "class LinearNoiseScheduler():\n",
    "    def __init__(self, num_steps, beta_start, beta_end):\n",
    "        self.num_steps = num_steps\n",
    "        self.beta_start = beta_start\n",
    "        self.beta_end = beta_end\n",
    "        self.step = 0\n",
    "\n",
    "        # pre-compute alphas and betas\n",
    "        self.betas = torch.linspace(beta_start, beta_end, num_steps)\n",
    "        self.alphas = 1 - self.betas\n",
    "        # \\bar{\\alpha}_t}\n",
    "        self.alpha_cum_prod = torch.cumprod(self.alphas, 0)\n",
    "        # \\sqrt{\\bar{\\alpha}_t}}\n",
    "        self.sqrt_alpha_cum_prod = torch.sqrt(self.alpha_cum_prod)\n",
    "        # \\sqrt{1-\\bar{\\alpha}_t}}\n",
    "        self.sqrt_one_minus_alpha_cum_prod = torch.sqrt(1 - self.alpha_cum_prod)\n",
    "\n",
    "    # forward process\n",
    "    def add_noise(self, original, noise, t):\n",
    "        original_shape = original.shape\n",
    "        batch_size = original_shape[0]\n",
    "\n",
    "        sqrt_alph_cum_prod = self.sqrt_alpha_cum_prod[t].repeat(batch_size, 1)\n",
    "        sqrt_one_minus_alpha_cum_prod = self.sqrt_one_minus_alpha_cum_prod[t].repeat(batch_size, 1)\n",
    "\n",
    "        for _ in range(original.dim() - 1):\n",
    "            sqrt_alph_cum_prod = sqrt_alph_cum_prod.unsqueeze(-1)\n",
    "            sqrt_one_minus_alpha_cum_prod = sqrt_one_minus_alpha_cum_prod.unsqueeze(-1)\n",
    "\n",
    "        # \\sqrt{\\bar{\\alpha}_t}} * x_0 + (1-\\sqrt{\\bar{\\alpha}_t}) * \\epsilon_t\n",
    "        return sqrt_alph_cum_prod * original + sqrt_one_minus_alpha_cum_prod * noise\n",
    "    \n",
    "    def sample_prev_timestep(self, xt, noise_pred, t):\n",
    "        # x0 = (xt - \\sqrt{1-\\bar{\\alpha}_t}} * \\epsilon_t) / \\sqrt{\\bar{\\alpha}_t}}\n",
    "        x0 = (\n",
    "            xt - self.sqrt_one_minus_alpha_cum_prod[t] * noise_pred\n",
    "        ) / self.sqrt_alpha_cum_prod[t]\n",
    "\n",
    "        x0 = torch.clamp(x0, -1, 1)\n",
    "\n",
    "        mean = xt - (self.betas[t] * noise_pred) / self.sqrt_one_minus_alpha_cum_prod[t]\n",
    "        mean = mean / torch.sqrt(self.alphas[t])\n",
    "\n",
    "        if t == 0:\n",
    "            return mean, x0\n",
    "\n",
    "        variance = (1 - self.alpha_cum_prod[t-1]) / (1 - self.alpha_cum_prod[t])\n",
    "        variance *= self.betas[t]\n",
    "        sigma = torch.sqrt(variance)\n",
    "        # sample from Gaussian distribution\n",
    "        z = torch.randn(xt.shape).to(xt.device)\n",
    "        return mean + sigma * z, x0"
   ]
  }
 ],
 "metadata": {
  "kernelspec": {
   "display_name": "py310",
   "language": "python",
   "name": "python3"
  },
  "language_info": {
   "name": "python",
   "version": "3.10.15"
  }
 },
 "nbformat": 4,
 "nbformat_minor": 2
}
